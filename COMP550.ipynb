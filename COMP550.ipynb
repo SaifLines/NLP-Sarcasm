{
 "cells": [
  {
   "cell_type": "code",
   "execution_count": 51,
   "id": "6c723fc2-e44b-4985-bdae-9afa3fe0573a",
   "metadata": {},
   "outputs": [],
   "source": [
    "import numpy as np\n",
    "import pandas as pd\n",
    "import os\n",
    "import re\n",
    "import nltk\n",
    "import string\n",
    "import tensorflow as tf\n",
    "import matplotlib.pyplot as plt\n",
    "from transformers import TFBertModel, BertTokenizer\n",
    "from sklearn.model_selection import train_test_split\n",
    "from nltk.tokenize import word_tokenize"
   ]
  },
  {
   "cell_type": "code",
   "execution_count": 3,
   "id": "97f35650-d87f-4666-a735-31d7a6f6ccd4",
   "metadata": {},
   "outputs": [
    {
     "name": "stderr",
     "output_type": "stream",
     "text": [
      "[nltk_data] Downloading package punkt to\n",
      "[nltk_data]     C:\\Users\\jerem\\AppData\\Roaming\\nltk_data...\n",
      "[nltk_data]   Package punkt is already up-to-date!\n",
      "[nltk_data] Downloading package stopwords to\n",
      "[nltk_data]     C:\\Users\\jerem\\AppData\\Roaming\\nltk_data...\n",
      "[nltk_data]   Package stopwords is already up-to-date!\n",
      "[nltk_data] Downloading package wordnet to\n",
      "[nltk_data]     C:\\Users\\jerem\\AppData\\Roaming\\nltk_data...\n",
      "[nltk_data]   Package wordnet is already up-to-date!\n",
      "[nltk_data] Downloading package omw-1.4 to\n",
      "[nltk_data]     C:\\Users\\jerem\\AppData\\Roaming\\nltk_data...\n",
      "[nltk_data]   Package omw-1.4 is already up-to-date!\n"
     ]
    },
    {
     "data": {
      "text/plain": [
       "True"
      ]
     },
     "execution_count": 3,
     "metadata": {},
     "output_type": "execute_result"
    }
   ],
   "source": [
    "nltk.download('punkt')\n",
    "nltk.download('stopwords')\n",
    "nltk.download('wordnet')\n",
    "nltk.download('omw-1.4')"
   ]
  },
  {
   "cell_type": "code",
   "execution_count": 52,
   "id": "5f8bab24-3996-4c98-bedf-84c3426ea4ac",
   "metadata": {},
   "outputs": [],
   "source": [
    "emoji_pattern = re.compile(\n",
    "    \"[\\U0001F600-\\U0001F64F\"  # Emoticons (smiley faces)\n",
    "    \"\\U0001F300-\\U0001F5FF\"  # Symbols & Pictographs\n",
    "    \"\\U0001F680-\\U0001F6FF\"  # Transport & Map symbols\n",
    "    \"\\U0001F700-\\U0001F77F\"  # Alchemical Symbols\n",
    "    \"\\U0001F780-\\U0001F7FF\"  # Geometric Shapes Extended\n",
    "    \"\\U0001F800-\\U0001F8FF\"  # Supplemental Arrows-C\n",
    "    \"\\U0001F900-\\U0001F9FF\"  # Supplemental Symbols and Pictographs\n",
    "    \"\\U0001FA00-\\U0001FA6F\"  # Chess Symbols\n",
    "    \"\\U0001FA70-\\U0001FAFF\"  # Symbols and Pictographs Extended-A\n",
    "    \"\\U00002700-\\U000027BF\"  # Dingbats\n",
    "    \"\\U00002600-\\U000026FF\"  # Miscellaneous Symbols\"\n",
    "    \"]+\", \n",
    "    flags=re.UNICODE\n",
    ")\n",
    "punctuation_marks = set(string.punctuation)\n",
    "intensifiers = [\"really\",\"very\",\"extremely\",\"quite\",\"rather\",\"somewhat\",\"pretty\",\"fairly\",\"at all\",\"absolutely\",\"amazingly\",\"astoundingly\",\"colossally\",\"completely\",\"dreadfully\",\"especially\",\n",
    "                    \"exceptionally\",\"excessively\",\"extraordinarily\",\"extremely\",\"fantastically\",\"frightfully\",\"fully\",\"highly\",\"incredibly\",\"literally\",\"mightily\",\"moderately\",\"outrageously\",\"quite\",\n",
    "                    \"radically\",\"rather\",\"really\",\"remarkably\",\"so\",\"somewhat\",\"strikingly\",\"supremely\",\"terribly\",\"terrifically\",\"too\",\"totally\",\"uncommonly\",\"unusually\",\"utterly\",\"ever\"]\n",
    "interjections = [\n",
    "    \"wow\", \"oh\", \"aha\", \"oops\", \"ouch\", \"yay\", \"hmm\", \"uh\", \"um\", \"hey\", \n",
    "    \"ah\", \"hooray\", \"alas\", \"eek\", \"phew\", \"whoa\", \"yikes\", \"meh\", \"bravo\"\n",
    "]"
   ]
  },
  {
   "cell_type": "code",
   "execution_count": 97,
   "id": "db143e66-3778-4511-8025-eb88e3e384ff",
   "metadata": {},
   "outputs": [],
   "source": [
    "def preprocess(sentences):\n",
    "    # Remove # with sarcasm and ironic type words\n",
    "    sentences = [re.sub(r\"#sarca\\w*\", \"\", sentence).strip() for sentence in sentences]\n",
    "    sentences = [re.sub(r\"#irony\\w*\", \"\", sentence).strip() for sentence in sentences]\n",
    "    sentences = [re.sub(r\"#ironic\\w*\", \"\", sentence).strip() for sentence in sentences]\n",
    "\n",
    "    # Count emojis for each string\n",
    "    emoji_counts = [len(re.findall(emoji_pattern, sentence)) for sentence in sentences]\n",
    "\n",
    "    # Count punctuation marks in each string\n",
    "    punctuation_counts = [sum(1 for char in sentence if char in punctuation_marks) for sentence in sentences]\n",
    "\n",
    "    # Count hashtags in each string\n",
    "    hashtag_counts = [len(re.findall(r\"#\\w+\", sentence)) for sentence in sentences]\n",
    "\n",
    "    # Count user_mentions in each string\n",
    "    user_mentions_counts = [len(re.findall(r\"@\\w+\", sentence)) for sentence in sentences]\n",
    "\n",
    "    # Count the number of intensifiers in each sentence\n",
    "    intensifier_counts = [\n",
    "        sum(1 for word in sentence.lower().split() if word.strip(\".,!?\") in intensifiers)\n",
    "        for sentence in sentences\n",
    "    ]\n",
    "\n",
    "    # Removes the hashtags (keeps the text), fully removes user mentions, removes links, remove emojis, remove punctuation\n",
    "    cleaned_sentences = []\n",
    "    for sentence in sentences:\n",
    "        cleaned_sentence = re.sub(r'#\\w+', lambda x: x.group()[1:], sentence)\n",
    "        cleaned_sentence = re.sub(r'@\\w+', '', cleaned_sentence)\n",
    "        cleaned_sentence = re.sub(r'http\\S+|www\\S+', '', cleaned_sentence)\n",
    "        cleaned_sentence = re.sub(r'http[s]?://\\S+', '', cleaned_sentence)\n",
    "        cleaned_sentence = re.sub(r'[^\\w\\s,]', '', cleaned_sentence)\n",
    "        cleaned_sentence = re.sub(r'[^\\w\\s#]', '', cleaned_sentence)\n",
    "        cleaned_sentences.append(cleaned_sentence)\n",
    "\n",
    "    # Count the number of interjections in each sentence\n",
    "    interjection_counts = [\n",
    "        sum(1 for word in sentence if word.lower() in interjections)  # Check each word in the sentence\n",
    "        for sentence in cleaned_sentences\n",
    "    ]\n",
    "\n",
    "    # Count the words that have more than 1 capital letter\n",
    "    capital_letter_counts = [\n",
    "        sum(1 for token in tokens if sum(1 for char in token if char.isupper()) > 1)\n",
    "        for tokens in cleaned_sentences\n",
    "    ]\n",
    "\n",
    "    # Count the words that have more than 3 consecutive letters\n",
    "    elongated_counts = [\n",
    "        sum(1 for token in tokens if re.search(r\"(.)\\1{2,}\", token))\n",
    "        for tokens in cleaned_sentences\n",
    "    ]\n",
    "\n",
    "    return cleaned_sentences, emoji_counts, punctuation_counts, hashtag_counts, user_mentions_counts, intensifier_counts, interjection_counts, capital_letter_counts, elongated_counts"
   ]
  },
  {
   "cell_type": "code",
   "execution_count": null,
   "id": "4202afc6-d311-4dc6-9162-7e1107c46c2b",
   "metadata": {},
   "outputs": [],
   "source": []
  },
  {
   "cell_type": "code",
   "execution_count": 54,
   "id": "af70fa1c-c439-4533-9a58-7ec6ccfadc6f",
   "metadata": {},
   "outputs": [
    {
     "name": "stdout",
     "output_type": "stream",
     "text": [
      "Datasets\\sarcasm_dataset.json\n"
     ]
    }
   ],
   "source": [
    "for dirname, _, filenames in os.walk('Datasets'):\n",
    "    for filename in filenames:\n",
    "        print(os.path.join(dirname, filename))"
   ]
  },
  {
   "cell_type": "code",
   "execution_count": 55,
   "id": "81867124-ec44-428e-85c2-abbdfb4de328",
   "metadata": {},
   "outputs": [],
   "source": [
    "data = pd.read_json(\"Datasets/sarcasm_dataset.json\", lines=True)\n",
    "labels = data.is_sarcastic.values\n",
    "sentences = data.headline.values"
   ]
  },
  {
   "cell_type": "code",
   "execution_count": 98,
   "id": "d4c3d01c-ebb6-40d5-be85-ebe3a89e8545",
   "metadata": {},
   "outputs": [],
   "source": [
    "sentences, emoji_counts, punctuation_counts, hashtag_counts, user_mentions_counts, intensifier_counts, interjection_counts, capital_letter_counts, elongated_counts = preprocess(sentences)"
   ]
  },
  {
   "cell_type": "code",
   "execution_count": 90,
   "id": "0e58efb3-2dfa-48da-b317-4899b120fec0",
   "metadata": {},
   "outputs": [],
   "source": [
    "PRE_TRAINED_MODEL_NAME = 'bert-base-uncased'\n",
    "tokenizer = BertTokenizer.from_pretrained(PRE_TRAINED_MODEL_NAME, do_lower_case=True)\n",
    "def encoder(sentences):\n",
    "    ids = []\n",
    "    for sentence in sentences:\n",
    "        encoding = tokenizer.encode_plus(\n",
    "            sentence,\n",
    "            max_length=32,\n",
    "            truncation=True,\n",
    "            add_special_tokens=True,\n",
    "            return_token_type_ids=False,\n",
    "            padding='max_length',\n",
    "            return_attention_mask=False\n",
    "        )\n",
    "        ids.append(encoding['input_ids'])\n",
    "    return ids"
   ]
  },
  {
   "cell_type": "code",
   "execution_count": 99,
   "id": "bd60e293-8569-4699-9466-1842c95dae34",
   "metadata": {},
   "outputs": [],
   "source": [
    "train_sents, test_sents, train_labels, test_labels = train_test_split(sentences, labels, test_size=0.15, random_state=0)"
   ]
  },
  {
   "cell_type": "code",
   "execution_count": 76,
   "id": "06a60732-13a8-4277-a551-dfe4781ad818",
   "metadata": {},
   "outputs": [],
   "source": [
    "train_ids = encoder(train_sents)\n",
    "test_ids = encoder(test_sents)"
   ]
  },
  {
   "cell_type": "code",
   "execution_count": 78,
   "id": "b1d33d97-8dc0-45d9-a1e9-303ce9bbc8d5",
   "metadata": {},
   "outputs": [],
   "source": [
    "train_ids = tf.convert_to_tensor(train_ids)\n",
    "test_ids = tf.convert_to_tensor(test_ids)\n",
    "test_labels = tf.convert_to_tensor(test_labels)\n",
    "train_labels = tf.convert_to_tensor(train_labels)"
   ]
  },
  {
   "cell_type": "code",
   "execution_count": 82,
   "id": "851da80c-b9f1-4b80-8055-2a872332a2e0",
   "metadata": {},
   "outputs": [
    {
     "name": "stderr",
     "output_type": "stream",
     "text": [
      "Some weights of the PyTorch model were not used when initializing the TF 2.0 model TFBertModel: ['cls.predictions.transform.dense.weight', 'cls.predictions.bias', 'cls.predictions.transform.LayerNorm.bias', 'cls.seq_relationship.bias', 'cls.predictions.transform.dense.bias', 'cls.predictions.transform.LayerNorm.weight', 'cls.seq_relationship.weight']\n",
      "- This IS expected if you are initializing TFBertModel from a PyTorch model trained on another task or with another architecture (e.g. initializing a TFBertForSequenceClassification model from a BertForPreTraining model).\n",
      "- This IS NOT expected if you are initializing TFBertModel from a PyTorch model that you expect to be exactly identical (e.g. initializing a TFBertForSequenceClassification model from a BertForSequenceClassification model).\n",
      "All the weights of TFBertModel were initialized from the PyTorch model.\n",
      "If your task is similar to the task the model of the checkpoint was trained on, you can already use TFBertModel for predictions without further training.\n"
     ]
    }
   ],
   "source": [
    "bert_encoder = TFBertModel.from_pretrained('bert-base-uncased')\n",
    "\n",
    "input_word_ids = tf.keras.Input(shape=(32,), dtype=tf.int32, name=\"input_word_ids\")  \n",
    "embedding = bert_encoder([input_word_ids])\n",
    "dense = tf.keras.layers.Lambda(lambda seq: seq[:, 0, :])(embedding[0])\n",
    "dense = tf.keras.layers.Dense(128, activation='relu')(dense)\n",
    "dense = tf.keras.layers.Dropout(0.2)(dense)   \n",
    "output = tf.keras.layers.Dense(1, activation='sigmoid')(dense)    \n",
    "model = tf.keras.Model(inputs=[input_word_ids], outputs=output)  "
   ]
  },
  {
   "cell_type": "code",
   "execution_count": 83,
   "id": "be6935e9-8201-4340-8deb-b3d24a615385",
   "metadata": {},
   "outputs": [
    {
     "name": "stdout",
     "output_type": "stream",
     "text": [
      "Model: \"model_1\"\n",
      "_________________________________________________________________\n",
      " Layer (type)                Output Shape              Param #   \n",
      "=================================================================\n",
      " input_word_ids (InputLayer  [(None, 32)]              0         \n",
      " )                                                               \n",
      "                                                                 \n",
      " tf_bert_model_1 (TFBertMod  TFBaseModelOutputWithPo   109482240 \n",
      " el)                         olingAndCrossAttentions             \n",
      "                             (last_hidden_state=(Non             \n",
      "                             e, 32, 768),                        \n",
      "                              pooler_output=(None, 7             \n",
      "                             68),                                \n",
      "                              past_key_values=None,              \n",
      "                             hidden_states=None, att             \n",
      "                             entions=None, cross_att             \n",
      "                             entions=None)                       \n",
      "                                                                 \n",
      " lambda_1 (Lambda)           (None, 768)               0         \n",
      "                                                                 \n",
      " dense_2 (Dense)             (None, 128)               98432     \n",
      "                                                                 \n",
      " dropout_75 (Dropout)        (None, 128)               0         \n",
      "                                                                 \n",
      " dense_3 (Dense)             (None, 1)                 129       \n",
      "                                                                 \n",
      "=================================================================\n",
      "Total params: 109580801 (418.02 MB)\n",
      "Trainable params: 109580801 (418.02 MB)\n",
      "Non-trainable params: 0 (0.00 Byte)\n",
      "_________________________________________________________________\n"
     ]
    }
   ],
   "source": [
    "model.compile(tf.keras.optimizers.Adam(1e-5), loss='binary_crossentropy', metrics=['accuracy'])\n",
    "model.summary()"
   ]
  },
  {
   "cell_type": "code",
   "execution_count": null,
   "id": "a0c20202-7172-41ec-b165-8e26a20f487b",
   "metadata": {},
   "outputs": [],
   "source": [
    "history = model.fit(x = train_ids, y = train_labels, epochs = 6, verbose = 1, batch_size = 32, validation_data = (test_ids, test_labels))"
   ]
  }
 ],
 "metadata": {
  "kernelspec": {
   "display_name": "Python 3 (ipykernel)",
   "language": "python",
   "name": "python3"
  },
  "language_info": {
   "codemirror_mode": {
    "name": "ipython",
    "version": 3
   },
   "file_extension": ".py",
   "mimetype": "text/x-python",
   "name": "python",
   "nbconvert_exporter": "python",
   "pygments_lexer": "ipython3",
   "version": "3.11.5"
  }
 },
 "nbformat": 4,
 "nbformat_minor": 5
}
